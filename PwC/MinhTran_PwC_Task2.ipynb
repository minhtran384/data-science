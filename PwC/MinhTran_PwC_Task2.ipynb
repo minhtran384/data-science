{
 "cells": [
  {
   "cell_type": "markdown",
   "metadata": {},
   "source": [
    "### Task 2\n",
    "## Responsible AI\n",
    "Understanding how AI leads to better decisions\n",
    "\n",
    "Notebook created by: Minh Tran\n",
    "\n",
    "Date: 07/06/2021"
   ]
  },
  {
   "cell_type": "markdown",
   "metadata": {},
   "source": [
    "#### Introduction\n",
    "\n",
    "This notebook uses a banking dataset and creates a classification algorithm to predict future potential clients who are more likely to subscribe to their term deposits. The goal of the algorithm is to assist management on deliver better business decisions. \n",
    "\n",
    "The dataset has 41,188 instances with 20 different attributes and is labeled 'yes' or 'no'. This notebook will perform prediction using classification algorithms such as Logistic Regression or Random Forest. Then this notebook evaluates the prediction results with accuracy, precision, and recall metrics. Feature selection with the Chi-Squared test will be applied to tweak prediction performance.\n"
   ]
  },
  {
   "cell_type": "code",
   "execution_count": 1,
   "metadata": {},
   "outputs": [],
   "source": [
    "# import libraries\n",
    "from pandas import read_csv\n",
    "from sklearn.model_selection import train_test_split\n",
    "from sklearn.preprocessing import OrdinalEncoder\n",
    "from sklearn.preprocessing import LabelEncoder\n",
    "from sklearn.linear_model import LogisticRegression\n",
    "from sklearn.ensemble import RandomForestClassifier\n",
    "from sklearn.metrics import accuracy_score, precision_score, recall_score\n",
    "from sklearn.metrics import confusion_matrix"
   ]
  },
  {
   "cell_type": "code",
   "execution_count": 2,
   "metadata": {},
   "outputs": [],
   "source": [
    "# create support functions to prepare data\n",
    "def load_dataset(file):\n",
    "    '''\n",
    "    function reads input data and return array of attributes and label\n",
    "    '''\n",
    "    data = read_csv(file, sep=\";\")\n",
    "    # create numpy array\n",
    "    dataset = data.values\n",
    "    # separate predictors and labels\n",
    "    X = dataset[:, :-1]\n",
    "    y = dataset[:, -1]\n",
    "    # format all field as string\n",
    "    X = X.astype(str)\n",
    "    return X, y\n",
    "\n",
    "def encode_attr(X, X_train, X_test):\n",
    "    '''\n",
    "    function encodes categorical data into numerical data\n",
    "    '''\n",
    "    oe = OrdinalEncoder()\n",
    "    oe.fit(X)\n",
    "    X_train_ecd = oe.transform(X_train)\n",
    "    X_test_ecd = oe.transform(X_test)\n",
    "    return X_train_ecd, X_test_ecd\n",
    "\n",
    "def encode_lab(y_train, y_test):\n",
    "    '''\n",
    "    function encodes categorical data into numerical data\n",
    "    '''\n",
    "    le = LabelEncoder()\n",
    "    le.fit(y_train)\n",
    "    y_train_ecd = le.transform(y_train)\n",
    "    y_test_ecd = le.transform(y_test)\n",
    "    return y_train_ecd, y_test_ecd   \n",
    "    "
   ]
  },
  {
   "cell_type": "code",
   "execution_count": 3,
   "metadata": {},
   "outputs": [],
   "source": [
    "# load input data\n",
    "X, y = load_dataset(\"bank-additional-full.csv\")\n",
    "# split train set and test set\n",
    "X_train, X_test, y_train, y_test = train_test_split(X, y, test_size=0.2, random_state=5)\n",
    "# prepare the data\n",
    "X_train_ecd, X_test_ecd = encode_attr(X, X_train, X_test)\n",
    "y_train_ecd, y_test_ecd = encode_lab(y_train, y_test)"
   ]
  },
  {
   "cell_type": "markdown",
   "metadata": {},
   "source": [
    "### Make prediction using all of the features"
   ]
  },
  {
   "cell_type": "code",
   "execution_count": 4,
   "metadata": {},
   "outputs": [
    {
     "name": "stdout",
     "output_type": "stream",
     "text": [
      "Logistic Regression\n",
      "Accuracy: 89.30565671279437\n",
      "Precission: 67.94871794871796\n",
      "Recall: 21.34944612286002\n"
     ]
    }
   ],
   "source": [
    "# fit the model using Logistic Regression\n",
    "model = LogisticRegression(solver='lbfgs', max_iter=5000)\n",
    "model.fit(X_train_ecd, y_train_ecd)\n",
    "# make prediction\n",
    "y_pred = model.predict(X_test_ecd)\n",
    "# test model accuracy\n",
    "accuracy = accuracy_score(y_test_ecd, y_pred)\n",
    "print(\"Logistic Regression\") \n",
    "print(\"Accuracy: \" + str(accuracy*100))\n",
    "precision = precision_score(y_test_ecd, y_pred)\n",
    "print(\"Precission: \" + str(precision*100))\n",
    "recall = recall_score(y_test_ecd, y_pred)\n",
    "print(\"Recall: \" + str(recall*100))"
   ]
  },
  {
   "cell_type": "code",
   "execution_count": 5,
   "metadata": {},
   "outputs": [
    {
     "name": "stdout",
     "output_type": "stream",
     "text": [
      "Random Forest Classifier\n",
      "Accuracy: 89.29351784413693\n",
      "Precission: 62.091503267973856\n",
      "Recall: 28.700906344410875\n"
     ]
    }
   ],
   "source": [
    "# fit the model using Random Forest Classifier\n",
    "classifier = RandomForestClassifier(n_estimators = 10, \n",
    "                                    criterion='entropy', \n",
    "                                    random_state=0)\n",
    "classifier.fit(X_train_ecd, y_train_ecd)\n",
    "\n",
    "# make prediction\n",
    "y_pred = classifier.predict(X_test_ecd)\n",
    "\n",
    "# test model accuracy\n",
    "accuracy = accuracy_score(y_test_ecd, y_pred)\n",
    "\n",
    "print(\"Random Forest Classifier\")\n",
    "print(\"Accuracy: \" + str(accuracy*100))\n",
    "precision = precision_score(y_test_ecd, y_pred)\n",
    "print(\"Precission: \" + str(precision*100))\n",
    "recall = recall_score(y_test_ecd, y_pred)\n",
    "print(\"Recall: \" + str(recall*100))"
   ]
  },
  {
   "cell_type": "markdown",
   "metadata": {},
   "source": [
    "While making predictions using all of the features, I can see that between Logistic Regression and Random Forest Classifier, they have close accuracy but the latter has a better recall, so I will choose Random Forest Classifier as the main classifier."
   ]
  },
  {
   "cell_type": "markdown",
   "metadata": {},
   "source": [
    "### Feature selection\n",
    "\n",
    "After making prediction using all of the available features, I use Chi Square test the select the best feature. Then I make prediction again using the top features and see if the accuracy is improve."
   ]
  },
  {
   "cell_type": "code",
   "execution_count": 6,
   "metadata": {},
   "outputs": [],
   "source": [
    "# import feature selection libraries\n",
    "from sklearn.feature_selection import SelectKBest\n",
    "from sklearn.feature_selection import chi2\n",
    "from matplotlib import pyplot as plt"
   ]
  },
  {
   "cell_type": "code",
   "execution_count": 7,
   "metadata": {},
   "outputs": [],
   "source": [
    "def feature_selection(X_train, y_train, X_test, k=\"all\"):\n",
    "    fs = SelectKBest(score_func=chi2, k=k)\n",
    "    fs.fit(X_train, y_train)\n",
    "    X_train_fs = fs.transform(X_train)\n",
    "    X_test_fs = fs.transform(X_test)\n",
    "    return X_train_fs, X_test_fs, fs"
   ]
  },
  {
   "cell_type": "code",
   "execution_count": 8,
   "metadata": {},
   "outputs": [],
   "source": [
    "# perform feature selection with all of the feature\n",
    "X_train_fs, X_test_fs, fs = feature_selection(X_train_ecd, y_train_ecd, X_test_ecd)"
   ]
  },
  {
   "cell_type": "code",
   "execution_count": 9,
   "metadata": {},
   "outputs": [
    {
     "name": "stdout",
     "output_type": "stream",
     "text": [
      "Feature 0: 147.478467\n",
      "Feature 1: 94.504290\n",
      "Feature 2: 25.476164\n",
      "Feature 3: 117.304044\n",
      "Feature 4: 266.032542\n",
      "Feature 5: 4.805618\n",
      "Feature 6: 0.258374\n",
      "Feature 7: 436.668807\n",
      "Feature 8: 0.364777\n",
      "Feature 9: 12.814467\n",
      "Feature 10: 35052.424434\n",
      "Feature 11: 1486.917244\n",
      "Feature 12: 311.234649\n",
      "Feature 13: 2346.556207\n",
      "Feature 14: 85.361107\n",
      "Feature 15: 984.368219\n",
      "Feature 16: 1387.738807\n",
      "Feature 17: 406.518728\n",
      "Feature 18: 83008.857129\n",
      "Feature 19: 3208.806943\n"
     ]
    }
   ],
   "source": [
    "# get chi-squared score\n",
    "for i in range(len(fs.scores_)):\n",
    "    print('Feature %d: %f' % (i, fs.scores_[i]))"
   ]
  },
  {
   "cell_type": "code",
   "execution_count": 10,
   "metadata": {},
   "outputs": [
    {
     "data": {
      "image/png": "[encoded data removed]",
      "text/plain": [
       "<Figure size 432x288 with 1 Axes>"
      ]
     },
     "metadata": {
      "needs_background": "light"
     },
     "output_type": "display_data"
    }
   ],
   "source": [
    "# visualize the score results\n",
    "plt.bar([i for i in range(len(fs.scores_))], fs.scores_)\n",
    "plt.show()"
   ]
  },
  {
   "cell_type": "markdown",
   "metadata": {},
   "source": [
    "I can see that feature 18, 10, 19, 13, and 11 are the top 5 features which have the highest Chi-Squared score. They are euribor3m, duration, nr.employed, previous, and campaign respectively."
   ]
  },
  {
   "cell_type": "code",
   "execution_count": 11,
   "metadata": {},
   "outputs": [
    {
     "name": "stdout",
     "output_type": "stream",
     "text": [
      "Accuracy: 87.86113134255888\n",
      "Precission: 49.395509499136445\n",
      "Recall: 28.80161127895267\n"
     ]
    },
    {
     "data": {
      "text/plain": [
       "(6952, 293, 707, 286)"
      ]
     },
     "execution_count": 11,
     "metadata": {},
     "output_type": "execute_result"
    }
   ],
   "source": [
    "# make prediction again with feature selection\n",
    "# feature selection \n",
    "X_train_fs, X_test_fs, fs = feature_selection(X_train_ecd, \n",
    "                                              y_train_ecd, \n",
    "                                              X_test_ecd, 5)\n",
    "\n",
    "# fit the model\n",
    "classifier.fit(X_train_fs, y_train_ecd)\n",
    "# make prediction\n",
    "yhat = classifier.predict(X_test_fs)\n",
    "\n",
    "# evaluation metrics\n",
    "accuracy = accuracy_score(y_test_ecd, yhat)\n",
    "print(\"Accuracy: \" + str(accuracy*100))\n",
    "precision = precision_score(y_test_ecd, yhat)\n",
    "print(\"Precission: \" + str(precision*100))\n",
    "recall = recall_score(y_test_ecd, yhat)\n",
    "print(\"Recall: \" + str(recall*100))\n",
    "\n",
    "# confusion matrix\n",
    "TN, FP, FN, TP = confusion_matrix(y_test_ecd, yhat).ravel()\n",
    "(TN, FP, FN, TP)"
   ]
  },
  {
   "cell_type": "markdown",
   "metadata": {},
   "source": [
    "While choosing the top 5 features based on the Chi-Squared score, my model performance reduces slightly. So besides the top contributed features, the other features still indeed contribute to the model, just less than the top 5. While the model accuracy is considerably high, this is because the model would predict correctly the clients who WON'T subscribe. While in this case, recall might be the most important evaluation metric to find the most clients who are more likely to subscribe. By using feature selection, the model accuracy has reduced however, the model recall has increased slightly due to less noise."
   ]
  },
  {
   "cell_type": "markdown",
   "metadata": {},
   "source": [
    "#### Conclusion\n",
    "The management can use this classification model to predict the next future clients who are not likely to subscribe to the term deposits to save resources and find other clients. \n",
    "\n",
    "Due to short time, this notebook has not covered data-wrangling in-depth, such as data audit, impute missing (unknown value), and outlier detection. To get a higher recall score, I might need to use other classification algorithms and spend more time on exploratory data analysis and data processing, feature selection.\n"
   ]
  },
  {
   "cell_type": "code",
   "execution_count": null,
   "metadata": {},
   "outputs": [],
   "source": []
  }
 ],
 "metadata": {
  "kernelspec": {
   "display_name": "Python 3",
   "language": "python",
   "name": "python3"
  },
  "language_info": {
   "codemirror_mode": {
    "name": "ipython",
    "version": 3
   },
   "file_extension": ".py",
   "mimetype": "text/x-python",
   "name": "python",
   "nbconvert_exporter": "python",
   "pygments_lexer": "ipython3",
   "version": "3.8.5"
  }
 },
 "nbformat": 4,
 "nbformat_minor": 4
}
