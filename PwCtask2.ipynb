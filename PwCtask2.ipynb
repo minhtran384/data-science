{
 "cells": [
  {
   "cell_type": "code",
   "execution_count": 23,
   "metadata": {},
   "outputs": [],
   "source": [
    "from pandas import read_csv\n",
    "from sklearn.model_selection import train_test_split\n",
    "from sklearn.preprocessing import OrdinalEncoder\n",
    "from sklearn.preprocessing import LabelEncoder\n"
   ]
  },
  {
   "cell_type": "code",
   "execution_count": 59,
   "metadata": {},
   "outputs": [],
   "source": [
    "from sklearn.linear_model import LogisticRegression\n",
    "from sklearn.metrics import accuracy_score"
   ]
  },
  {
   "cell_type": "code",
   "execution_count": 66,
   "metadata": {},
   "outputs": [],
   "source": [
    "from sklearn.ensemble import RandomForestClassifier"
   ]
  },
  {
   "cell_type": "code",
   "execution_count": 54,
   "metadata": {},
   "outputs": [],
   "source": [
    "def load_dataset(file):\n",
    "    data = read_csv(file, sep=\";\")\n",
    "    # create numpy array\n",
    "    dataset = data.values\n",
    "    # separate predictors and labels\n",
    "    X = dataset[:, :-1]\n",
    "    y = dataset[:, -1]\n",
    "    # format all field as string\n",
    "    X = X.astype(str)\n",
    "    return X, y\n",
    "\n",
    "def encode_pred(X, X_train, X_test):\n",
    "    oe = OrdinalEncoder()\n",
    "    oe.fit(X)\n",
    "    X_train_ecd = oe.transform(X_train)\n",
    "    X_test_ecd = oe.transform(X_test)\n",
    "    return X_train_ecd, X_test_ecd\n",
    "\n",
    "def encode_lab(y_train, y_test):\n",
    "    le = LabelEncoder()\n",
    "    le.fit(y_train)\n",
    "    y_train_ecd = le.transform(y_train)\n",
    "    y_test_ecd = le.transform(y_test)\n",
    "    return y_train_ecd, y_test_ecd\n",
    "    \n",
    "    "
   ]
  },
  {
   "cell_type": "code",
   "execution_count": 51,
   "metadata": {},
   "outputs": [],
   "source": [
    "X, y = load_dataset(\"bank-additional-full.csv\")\n",
    "X_train, X_test, y_train, y_test = train_test_split(X, y, test_size=0.2, random_state=1)\n",
    "X_train_ecd, X_test_ecd = encode_pred(X, X_train, X_test)\n",
    "y_train_ecd, y_test_ecd = encode_lab(y_train, y_test)"
   ]
  },
  {
   "cell_type": "code",
   "execution_count": 64,
   "metadata": {},
   "outputs": [],
   "source": [
    "# fit the model\n",
    "model = LogisticRegression(solver='lbfgs', max_iter=5000)\n",
    "model.fit(X_train_ecd, y_train_ecd)\n",
    "\n",
    "yhat = model.predict(X_test_ecd)"
   ]
  },
  {
   "cell_type": "code",
   "execution_count": 65,
   "metadata": {
    "scrolled": false
   },
   "outputs": [
    {
     "name": "stdout",
     "output_type": "stream",
     "text": [
      "90.84729303228939\n"
     ]
    }
   ],
   "source": [
    "accuracy = accuracy_score(y_test_ecd, yhat)\n",
    "\n",
    "print(accuracy*100)"
   ]
  },
  {
   "cell_type": "code",
   "execution_count": 71,
   "metadata": {},
   "outputs": [
    {
     "data": {
      "text/plain": [
       "RandomForestClassifier(criterion='entropy', n_estimators=10, random_state=0)"
      ]
     },
     "execution_count": 71,
     "metadata": {},
     "output_type": "execute_result"
    }
   ],
   "source": [
    "classifier = RandomForestClassifier(n_estimators = 10, criterion='entropy', random_state=0)\n",
    "classifier.fit(X_train_ecd, y_train_ecd)"
   ]
  },
  {
   "cell_type": "code",
   "execution_count": 72,
   "metadata": {},
   "outputs": [],
   "source": [
    "yhat = classifier.predict(X_test_ecd)"
   ]
  },
  {
   "cell_type": "code",
   "execution_count": 73,
   "metadata": {},
   "outputs": [
    {
     "name": "stdout",
     "output_type": "stream",
     "text": [
      "91.02937606215102\n"
     ]
    }
   ],
   "source": [
    "accuracy = accuracy_score(y_test_ecd, yhat)\n",
    "\n",
    "print(accuracy*100)"
   ]
  },
  {
   "cell_type": "code",
   "execution_count": null,
   "metadata": {},
   "outputs": [],
   "source": []
  }
 ],
 "metadata": {
  "kernelspec": {
   "display_name": "Python 3",
   "language": "python",
   "name": "python3"
  },
  "language_info": {
   "codemirror_mode": {
    "name": "ipython",
    "version": 3
   },
   "file_extension": ".py",
   "mimetype": "text/x-python",
   "name": "python",
   "nbconvert_exporter": "python",
   "pygments_lexer": "ipython3",
   "version": "3.8.5"
  }
 },
 "nbformat": 4,
 "nbformat_minor": 4
}
